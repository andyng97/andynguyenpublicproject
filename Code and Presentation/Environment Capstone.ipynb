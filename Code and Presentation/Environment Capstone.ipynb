{
 "cells": [
  {
   "cell_type": "code",
   "execution_count": 1,
   "metadata": {},
   "outputs": [],
   "source": [
    "import numpy as np\n",
    "import pandas as pd\n",
    "from sklearn.linear_model import LogisticRegression\n",
    "from sklearn.model_selection import train_test_split\n",
    "import matplotlib.pyplot as plt\n",
    "%matplotlib inline\n",
    "import seaborn as sns\n",
    "from scipy import stats\n",
    "import statsmodels.api as sm\n",
    "from statsmodels.stats.outliers_influence import variance_inflation_factor"
   ]
  },
  {
   "cell_type": "code",
   "execution_count": 31,
   "metadata": {},
   "outputs": [
    {
     "data": {
      "text/html": [
       "<div>\n",
       "<style scoped>\n",
       "    .dataframe tbody tr th:only-of-type {\n",
       "        vertical-align: middle;\n",
       "    }\n",
       "\n",
       "    .dataframe tbody tr th {\n",
       "        vertical-align: top;\n",
       "    }\n",
       "\n",
       "    .dataframe thead th {\n",
       "        text-align: right;\n",
       "    }\n",
       "</style>\n",
       "<table border=\"1\" class=\"dataframe\">\n",
       "  <thead>\n",
       "    <tr style=\"text-align: right;\">\n",
       "      <th></th>\n",
       "      <th>Code</th>\n",
       "      <th>Country</th>\n",
       "      <th>EPI</th>\n",
       "      <th>Year</th>\n",
       "    </tr>\n",
       "  </thead>\n",
       "  <tbody>\n",
       "    <tr>\n",
       "      <th>0</th>\n",
       "      <td>AGO</td>\n",
       "      <td>Angola</td>\n",
       "      <td>39.3</td>\n",
       "      <td>2006</td>\n",
       "    </tr>\n",
       "    <tr>\n",
       "      <th>1</th>\n",
       "      <td>ALB</td>\n",
       "      <td>Albania</td>\n",
       "      <td>68.9</td>\n",
       "      <td>2006</td>\n",
       "    </tr>\n",
       "    <tr>\n",
       "      <th>2</th>\n",
       "      <td>ARE</td>\n",
       "      <td>United Arab Em.</td>\n",
       "      <td>73.2</td>\n",
       "      <td>2006</td>\n",
       "    </tr>\n",
       "    <tr>\n",
       "      <th>3</th>\n",
       "      <td>ARG</td>\n",
       "      <td>Argentina</td>\n",
       "      <td>77.7</td>\n",
       "      <td>2006</td>\n",
       "    </tr>\n",
       "    <tr>\n",
       "      <th>4</th>\n",
       "      <td>ARM</td>\n",
       "      <td>Armenia</td>\n",
       "      <td>63.8</td>\n",
       "      <td>2006</td>\n",
       "    </tr>\n",
       "  </tbody>\n",
       "</table>\n",
       "</div>"
      ],
      "text/plain": [
       "  Code          Country   EPI  Year\n",
       "0  AGO           Angola  39.3  2006\n",
       "1  ALB          Albania  68.9  2006\n",
       "2  ARE  United Arab Em.  73.2  2006\n",
       "3  ARG        Argentina  77.7  2006\n",
       "4  ARM          Armenia  63.8  2006"
      ]
     },
     "execution_count": 31,
     "metadata": {},
     "output_type": "execute_result"
    }
   ],
   "source": [
    "# Load the CO2 Emission Data \n",
    "df_EPI = pd.read_excel('data/EPI.xlsx')\n",
    "df_EPI.head()"
   ]
  },
  {
   "cell_type": "code",
   "execution_count": 32,
   "metadata": {},
   "outputs": [],
   "source": [
    "special_value = df_EPI[df_EPI['EPI'] == '..' ].index"
   ]
  },
  {
   "cell_type": "code",
   "execution_count": 33,
   "metadata": {},
   "outputs": [],
   "source": [
    "df_EPI.drop(special_value , inplace=True)"
   ]
  },
  {
   "cell_type": "code",
   "execution_count": 34,
   "metadata": {},
   "outputs": [
    {
     "data": {
      "text/html": [
       "<div>\n",
       "<style scoped>\n",
       "    .dataframe tbody tr th:only-of-type {\n",
       "        vertical-align: middle;\n",
       "    }\n",
       "\n",
       "    .dataframe tbody tr th {\n",
       "        vertical-align: top;\n",
       "    }\n",
       "\n",
       "    .dataframe thead th {\n",
       "        text-align: right;\n",
       "    }\n",
       "</style>\n",
       "<table border=\"1\" class=\"dataframe\">\n",
       "  <thead>\n",
       "    <tr style=\"text-align: right;\">\n",
       "      <th></th>\n",
       "      <th>Code</th>\n",
       "      <th>Country</th>\n",
       "      <th>EPI</th>\n",
       "      <th>Year</th>\n",
       "    </tr>\n",
       "  </thead>\n",
       "  <tbody>\n",
       "    <tr>\n",
       "      <th>0</th>\n",
       "      <td>AGO</td>\n",
       "      <td>Angola</td>\n",
       "      <td>39.3</td>\n",
       "      <td>2006</td>\n",
       "    </tr>\n",
       "    <tr>\n",
       "      <th>1</th>\n",
       "      <td>ALB</td>\n",
       "      <td>Albania</td>\n",
       "      <td>68.9</td>\n",
       "      <td>2006</td>\n",
       "    </tr>\n",
       "    <tr>\n",
       "      <th>2</th>\n",
       "      <td>ARE</td>\n",
       "      <td>United Arab Em.</td>\n",
       "      <td>73.2</td>\n",
       "      <td>2006</td>\n",
       "    </tr>\n",
       "    <tr>\n",
       "      <th>3</th>\n",
       "      <td>ARG</td>\n",
       "      <td>Argentina</td>\n",
       "      <td>77.7</td>\n",
       "      <td>2006</td>\n",
       "    </tr>\n",
       "    <tr>\n",
       "      <th>4</th>\n",
       "      <td>ARM</td>\n",
       "      <td>Armenia</td>\n",
       "      <td>63.8</td>\n",
       "      <td>2006</td>\n",
       "    </tr>\n",
       "    <tr>\n",
       "      <th>...</th>\n",
       "      <td>...</td>\n",
       "      <td>...</td>\n",
       "      <td>...</td>\n",
       "      <td>...</td>\n",
       "    </tr>\n",
       "    <tr>\n",
       "      <th>2248</th>\n",
       "      <td>VUT</td>\n",
       "      <td>Vanuatu</td>\n",
       "      <td>44.55</td>\n",
       "      <td>2017</td>\n",
       "    </tr>\n",
       "    <tr>\n",
       "      <th>2249</th>\n",
       "      <td>VEN</td>\n",
       "      <td>Venezuela</td>\n",
       "      <td>63.89</td>\n",
       "      <td>2017</td>\n",
       "    </tr>\n",
       "    <tr>\n",
       "      <th>2250</th>\n",
       "      <td>VNM</td>\n",
       "      <td>Viet Nam</td>\n",
       "      <td>46.96</td>\n",
       "      <td>2017</td>\n",
       "    </tr>\n",
       "    <tr>\n",
       "      <th>2251</th>\n",
       "      <td>ZMB</td>\n",
       "      <td>Zambia</td>\n",
       "      <td>50.97</td>\n",
       "      <td>2017</td>\n",
       "    </tr>\n",
       "    <tr>\n",
       "      <th>2252</th>\n",
       "      <td>ZWE</td>\n",
       "      <td>Zimbabwe</td>\n",
       "      <td>43.41</td>\n",
       "      <td>2017</td>\n",
       "    </tr>\n",
       "  </tbody>\n",
       "</table>\n",
       "<p>2053 rows × 4 columns</p>\n",
       "</div>"
      ],
      "text/plain": [
       "     Code          Country    EPI  Year\n",
       "0     AGO           Angola   39.3  2006\n",
       "1     ALB          Albania   68.9  2006\n",
       "2     ARE  United Arab Em.   73.2  2006\n",
       "3     ARG        Argentina   77.7  2006\n",
       "4     ARM          Armenia   63.8  2006\n",
       "...   ...              ...    ...   ...\n",
       "2248  VUT          Vanuatu  44.55  2017\n",
       "2249  VEN        Venezuela  63.89  2017\n",
       "2250  VNM         Viet Nam  46.96  2017\n",
       "2251  ZMB           Zambia  50.97  2017\n",
       "2252  ZWE         Zimbabwe  43.41  2017\n",
       "\n",
       "[2053 rows x 4 columns]"
      ]
     },
     "execution_count": 34,
     "metadata": {},
     "output_type": "execute_result"
    }
   ],
   "source": [
    "df_EPI"
   ]
  },
  {
   "cell_type": "code",
   "execution_count": 36,
   "metadata": {},
   "outputs": [],
   "source": [
    "# Drop Naan row \n",
    "df_EPI = df_EPI.dropna()"
   ]
  },
  {
   "cell_type": "code",
   "execution_count": 73,
   "metadata": {},
   "outputs": [],
   "source": [
    "# Select only 2017\n",
    "df_EPI = df_EPI[df_EPI['Year'].isin([2007,2008,2009,2010,2011,2012,2013,2014,2015,2016,2017])]"
   ]
  },
  {
   "cell_type": "code",
   "execution_count": 149,
   "metadata": {},
   "outputs": [
    {
     "name": "stdout",
     "output_type": "stream",
     "text": [
      "<class 'pandas.core.frame.DataFrame'>\n",
      "Int64Index: 1784 entries, 133 to 2252\n",
      "Data columns (total 4 columns):\n",
      " #   Column   Non-Null Count  Dtype \n",
      "---  ------   --------------  ----- \n",
      " 0   Code     1784 non-null   object\n",
      " 1   Country  1784 non-null   object\n",
      " 2   EPI      1784 non-null   object\n",
      " 3   Year     1784 non-null   int64 \n",
      "dtypes: int64(1), object(3)\n",
      "memory usage: 69.7+ KB\n"
     ]
    }
   ],
   "source": [
    "df_EPI.info()"
   ]
  },
  {
   "cell_type": "code",
   "execution_count": 206,
   "metadata": {},
   "outputs": [
    {
     "data": {
      "text/html": [
       "<div>\n",
       "<style scoped>\n",
       "    .dataframe tbody tr th:only-of-type {\n",
       "        vertical-align: middle;\n",
       "    }\n",
       "\n",
       "    .dataframe tbody tr th {\n",
       "        vertical-align: top;\n",
       "    }\n",
       "\n",
       "    .dataframe thead th {\n",
       "        text-align: right;\n",
       "    }\n",
       "</style>\n",
       "<table border=\"1\" class=\"dataframe\">\n",
       "  <thead>\n",
       "    <tr style=\"text-align: right;\">\n",
       "      <th></th>\n",
       "      <th>Entity</th>\n",
       "      <th>Code</th>\n",
       "      <th>Year</th>\n",
       "      <th>Per capita CO₂ emissions (tonnes per capita)</th>\n",
       "    </tr>\n",
       "  </thead>\n",
       "  <tbody>\n",
       "    <tr>\n",
       "      <th>0</th>\n",
       "      <td>Afghanistan</td>\n",
       "      <td>AFG</td>\n",
       "      <td>1800</td>\n",
       "      <td>0.0</td>\n",
       "    </tr>\n",
       "    <tr>\n",
       "      <th>1</th>\n",
       "      <td>Afghanistan</td>\n",
       "      <td>AFG</td>\n",
       "      <td>1801</td>\n",
       "      <td>0.0</td>\n",
       "    </tr>\n",
       "    <tr>\n",
       "      <th>2</th>\n",
       "      <td>Afghanistan</td>\n",
       "      <td>AFG</td>\n",
       "      <td>1802</td>\n",
       "      <td>0.0</td>\n",
       "    </tr>\n",
       "    <tr>\n",
       "      <th>3</th>\n",
       "      <td>Afghanistan</td>\n",
       "      <td>AFG</td>\n",
       "      <td>1803</td>\n",
       "      <td>0.0</td>\n",
       "    </tr>\n",
       "    <tr>\n",
       "      <th>4</th>\n",
       "      <td>Afghanistan</td>\n",
       "      <td>AFG</td>\n",
       "      <td>1804</td>\n",
       "      <td>0.0</td>\n",
       "    </tr>\n",
       "  </tbody>\n",
       "</table>\n",
       "</div>"
      ],
      "text/plain": [
       "        Entity Code  Year  Per capita CO₂ emissions (tonnes per capita)\n",
       "0  Afghanistan  AFG  1800                                           0.0\n",
       "1  Afghanistan  AFG  1801                                           0.0\n",
       "2  Afghanistan  AFG  1802                                           0.0\n",
       "3  Afghanistan  AFG  1803                                           0.0\n",
       "4  Afghanistan  AFG  1804                                           0.0"
      ]
     },
     "execution_count": 206,
     "metadata": {},
     "output_type": "execute_result"
    }
   ],
   "source": [
    "# Load the CO2 Emission Data \n",
    "df_CO2_Emission = pd.read_csv('data/co-emissions-per-capita.csv')\n",
    "df_CO2_Emission.head()"
   ]
  },
  {
   "cell_type": "code",
   "execution_count": 207,
   "metadata": {},
   "outputs": [
    {
     "name": "stdout",
     "output_type": "stream",
     "text": [
      "<class 'pandas.core.frame.DataFrame'>\n",
      "RangeIndex: 42844 entries, 0 to 42843\n",
      "Data columns (total 4 columns):\n",
      " #   Column                                        Non-Null Count  Dtype  \n",
      "---  ------                                        --------------  -----  \n",
      " 0   Entity                                        42844 non-null  object \n",
      " 1   Code                                          42626 non-null  object \n",
      " 2   Year                                          42844 non-null  int64  \n",
      " 3   Per capita CO₂ emissions (tonnes per capita)  42844 non-null  float64\n",
      "dtypes: float64(1), int64(1), object(2)\n",
      "memory usage: 1.3+ MB\n"
     ]
    }
   ],
   "source": [
    "df_CO2_Emission.info()"
   ]
  },
  {
   "cell_type": "code",
   "execution_count": 210,
   "metadata": {},
   "outputs": [],
   "source": [
    "df_CO2_Emission = df_CO2_Emission.rename(columns={\"Entity\": \"Country\"})"
   ]
  },
  {
   "cell_type": "code",
   "execution_count": 212,
   "metadata": {},
   "outputs": [
    {
     "data": {
      "text/html": [
       "<div>\n",
       "<style scoped>\n",
       "    .dataframe tbody tr th:only-of-type {\n",
       "        vertical-align: middle;\n",
       "    }\n",
       "\n",
       "    .dataframe tbody tr th {\n",
       "        vertical-align: top;\n",
       "    }\n",
       "\n",
       "    .dataframe thead th {\n",
       "        text-align: right;\n",
       "    }\n",
       "</style>\n",
       "<table border=\"1\" class=\"dataframe\">\n",
       "  <thead>\n",
       "    <tr style=\"text-align: right;\">\n",
       "      <th></th>\n",
       "      <th>Code</th>\n",
       "      <th>Year</th>\n",
       "      <th>Per capita CO₂ emissions (tonnes per capita)</th>\n",
       "    </tr>\n",
       "  </thead>\n",
       "  <tbody>\n",
       "    <tr>\n",
       "      <th>0</th>\n",
       "      <td>AFG</td>\n",
       "      <td>1800</td>\n",
       "      <td>0.000000</td>\n",
       "    </tr>\n",
       "    <tr>\n",
       "      <th>1</th>\n",
       "      <td>AFG</td>\n",
       "      <td>1801</td>\n",
       "      <td>0.000000</td>\n",
       "    </tr>\n",
       "    <tr>\n",
       "      <th>2</th>\n",
       "      <td>AFG</td>\n",
       "      <td>1802</td>\n",
       "      <td>0.000000</td>\n",
       "    </tr>\n",
       "    <tr>\n",
       "      <th>3</th>\n",
       "      <td>AFG</td>\n",
       "      <td>1803</td>\n",
       "      <td>0.000000</td>\n",
       "    </tr>\n",
       "    <tr>\n",
       "      <th>4</th>\n",
       "      <td>AFG</td>\n",
       "      <td>1804</td>\n",
       "      <td>0.000000</td>\n",
       "    </tr>\n",
       "    <tr>\n",
       "      <th>...</th>\n",
       "      <td>...</td>\n",
       "      <td>...</td>\n",
       "      <td>...</td>\n",
       "    </tr>\n",
       "    <tr>\n",
       "      <th>42839</th>\n",
       "      <td>ZWE</td>\n",
       "      <td>2013</td>\n",
       "      <td>0.766298</td>\n",
       "    </tr>\n",
       "    <tr>\n",
       "      <th>42840</th>\n",
       "      <td>ZWE</td>\n",
       "      <td>2014</td>\n",
       "      <td>0.769958</td>\n",
       "    </tr>\n",
       "    <tr>\n",
       "      <th>42841</th>\n",
       "      <td>ZWE</td>\n",
       "      <td>2015</td>\n",
       "      <td>0.691341</td>\n",
       "    </tr>\n",
       "    <tr>\n",
       "      <th>42842</th>\n",
       "      <td>ZWE</td>\n",
       "      <td>2016</td>\n",
       "      <td>0.615011</td>\n",
       "    </tr>\n",
       "    <tr>\n",
       "      <th>42843</th>\n",
       "      <td>ZWE</td>\n",
       "      <td>2017</td>\n",
       "      <td>0.629025</td>\n",
       "    </tr>\n",
       "  </tbody>\n",
       "</table>\n",
       "<p>42844 rows × 3 columns</p>\n",
       "</div>"
      ],
      "text/plain": [
       "      Code  Year  Per capita CO₂ emissions (tonnes per capita)\n",
       "0      AFG  1800                                      0.000000\n",
       "1      AFG  1801                                      0.000000\n",
       "2      AFG  1802                                      0.000000\n",
       "3      AFG  1803                                      0.000000\n",
       "4      AFG  1804                                      0.000000\n",
       "...    ...   ...                                           ...\n",
       "42839  ZWE  2013                                      0.766298\n",
       "42840  ZWE  2014                                      0.769958\n",
       "42841  ZWE  2015                                      0.691341\n",
       "42842  ZWE  2016                                      0.615011\n",
       "42843  ZWE  2017                                      0.629025\n",
       "\n",
       "[42844 rows x 3 columns]"
      ]
     },
     "execution_count": 212,
     "metadata": {},
     "output_type": "execute_result"
    }
   ],
   "source": [
    "df_CO2_Emission = df_CO2_Emission.drop(['Country'], axis=1)\n",
    "df_CO2_Emission"
   ]
  },
  {
   "cell_type": "code",
   "execution_count": 213,
   "metadata": {},
   "outputs": [
    {
     "data": {
      "text/html": [
       "<div>\n",
       "<style scoped>\n",
       "    .dataframe tbody tr th:only-of-type {\n",
       "        vertical-align: middle;\n",
       "    }\n",
       "\n",
       "    .dataframe tbody tr th {\n",
       "        vertical-align: top;\n",
       "    }\n",
       "\n",
       "    .dataframe thead th {\n",
       "        text-align: right;\n",
       "    }\n",
       "</style>\n",
       "<table border=\"1\" class=\"dataframe\">\n",
       "  <thead>\n",
       "    <tr style=\"text-align: right;\">\n",
       "      <th></th>\n",
       "      <th>Code</th>\n",
       "      <th>Year</th>\n",
       "      <th>Per capita CO₂ emissions (tonnes per capita)</th>\n",
       "    </tr>\n",
       "  </thead>\n",
       "  <tbody>\n",
       "    <tr>\n",
       "      <th>207</th>\n",
       "      <td>AFG</td>\n",
       "      <td>2007</td>\n",
       "      <td>0.085222</td>\n",
       "    </tr>\n",
       "    <tr>\n",
       "      <th>208</th>\n",
       "      <td>AFG</td>\n",
       "      <td>2008</td>\n",
       "      <td>0.153819</td>\n",
       "    </tr>\n",
       "    <tr>\n",
       "      <th>209</th>\n",
       "      <td>AFG</td>\n",
       "      <td>2009</td>\n",
       "      <td>0.241402</td>\n",
       "    </tr>\n",
       "    <tr>\n",
       "      <th>210</th>\n",
       "      <td>AFG</td>\n",
       "      <td>2010</td>\n",
       "      <td>0.293448</td>\n",
       "    </tr>\n",
       "    <tr>\n",
       "      <th>211</th>\n",
       "      <td>AFG</td>\n",
       "      <td>2011</td>\n",
       "      <td>0.411531</td>\n",
       "    </tr>\n",
       "    <tr>\n",
       "      <th>...</th>\n",
       "      <td>...</td>\n",
       "      <td>...</td>\n",
       "      <td>...</td>\n",
       "    </tr>\n",
       "    <tr>\n",
       "      <th>42839</th>\n",
       "      <td>ZWE</td>\n",
       "      <td>2013</td>\n",
       "      <td>0.766298</td>\n",
       "    </tr>\n",
       "    <tr>\n",
       "      <th>42840</th>\n",
       "      <td>ZWE</td>\n",
       "      <td>2014</td>\n",
       "      <td>0.769958</td>\n",
       "    </tr>\n",
       "    <tr>\n",
       "      <th>42841</th>\n",
       "      <td>ZWE</td>\n",
       "      <td>2015</td>\n",
       "      <td>0.691341</td>\n",
       "    </tr>\n",
       "    <tr>\n",
       "      <th>42842</th>\n",
       "      <td>ZWE</td>\n",
       "      <td>2016</td>\n",
       "      <td>0.615011</td>\n",
       "    </tr>\n",
       "    <tr>\n",
       "      <th>42843</th>\n",
       "      <td>ZWE</td>\n",
       "      <td>2017</td>\n",
       "      <td>0.629025</td>\n",
       "    </tr>\n",
       "  </tbody>\n",
       "</table>\n",
       "<p>2167 rows × 3 columns</p>\n",
       "</div>"
      ],
      "text/plain": [
       "      Code  Year  Per capita CO₂ emissions (tonnes per capita)\n",
       "207    AFG  2007                                      0.085222\n",
       "208    AFG  2008                                      0.153819\n",
       "209    AFG  2009                                      0.241402\n",
       "210    AFG  2010                                      0.293448\n",
       "211    AFG  2011                                      0.411531\n",
       "...    ...   ...                                           ...\n",
       "42839  ZWE  2013                                      0.766298\n",
       "42840  ZWE  2014                                      0.769958\n",
       "42841  ZWE  2015                                      0.691341\n",
       "42842  ZWE  2016                                      0.615011\n",
       "42843  ZWE  2017                                      0.629025\n",
       "\n",
       "[2167 rows x 3 columns]"
      ]
     },
     "execution_count": 213,
     "metadata": {},
     "output_type": "execute_result"
    }
   ],
   "source": [
    "# Select only 2017\n",
    "df_CO2_Emission = df_CO2_Emission[df_CO2_Emission['Year'].isin([2007,2008,2009,2010,2011,2012,2013,2014,2015,2016,2017])]\n",
    "df_CO2_Emission"
   ]
  },
  {
   "cell_type": "code",
   "execution_count": 203,
   "metadata": {},
   "outputs": [],
   "source": [
    "df_CO2_Emission.to_csv('file_name3.csv', index=False)"
   ]
  },
  {
   "cell_type": "code",
   "execution_count": 214,
   "metadata": {},
   "outputs": [
    {
     "data": {
      "text/html": [
       "<div>\n",
       "<style scoped>\n",
       "    .dataframe tbody tr th:only-of-type {\n",
       "        vertical-align: middle;\n",
       "    }\n",
       "\n",
       "    .dataframe tbody tr th {\n",
       "        vertical-align: top;\n",
       "    }\n",
       "\n",
       "    .dataframe thead th {\n",
       "        text-align: right;\n",
       "    }\n",
       "</style>\n",
       "<table border=\"1\" class=\"dataframe\">\n",
       "  <thead>\n",
       "    <tr style=\"text-align: right;\">\n",
       "      <th></th>\n",
       "      <th>Code</th>\n",
       "      <th>Country</th>\n",
       "      <th>EPI</th>\n",
       "      <th>Year</th>\n",
       "      <th>Per capita CO₂ emissions (tonnes per capita)</th>\n",
       "    </tr>\n",
       "  </thead>\n",
       "  <tbody>\n",
       "    <tr>\n",
       "      <th>0</th>\n",
       "      <td>AGO</td>\n",
       "      <td>Angola</td>\n",
       "      <td>39.4947</td>\n",
       "      <td>2007</td>\n",
       "      <td>1.189469</td>\n",
       "    </tr>\n",
       "    <tr>\n",
       "      <th>1</th>\n",
       "      <td>ALB</td>\n",
       "      <td>Albania</td>\n",
       "      <td>83.951</td>\n",
       "      <td>2007</td>\n",
       "      <td>1.297707</td>\n",
       "    </tr>\n",
       "    <tr>\n",
       "      <th>2</th>\n",
       "      <td>ARE</td>\n",
       "      <td>United Arab Emirates</td>\n",
       "      <td>63.9858</td>\n",
       "      <td>2007</td>\n",
       "      <td>22.060806</td>\n",
       "    </tr>\n",
       "    <tr>\n",
       "      <th>3</th>\n",
       "      <td>ARG</td>\n",
       "      <td>Argentina</td>\n",
       "      <td>81.7837</td>\n",
       "      <td>2007</td>\n",
       "      <td>4.359068</td>\n",
       "    </tr>\n",
       "    <tr>\n",
       "      <th>4</th>\n",
       "      <td>ARM</td>\n",
       "      <td>Armenia</td>\n",
       "      <td>77.7546</td>\n",
       "      <td>2007</td>\n",
       "      <td>1.741447</td>\n",
       "    </tr>\n",
       "    <tr>\n",
       "      <th>...</th>\n",
       "      <td>...</td>\n",
       "      <td>...</td>\n",
       "      <td>...</td>\n",
       "      <td>...</td>\n",
       "      <td>...</td>\n",
       "    </tr>\n",
       "    <tr>\n",
       "      <th>95</th>\n",
       "      <td>MWI</td>\n",
       "      <td>Malawi</td>\n",
       "      <td>59.9109</td>\n",
       "      <td>2007</td>\n",
       "      <td>0.062586</td>\n",
       "    </tr>\n",
       "    <tr>\n",
       "      <th>96</th>\n",
       "      <td>MYS</td>\n",
       "      <td>Malaysia</td>\n",
       "      <td>83.9784</td>\n",
       "      <td>2007</td>\n",
       "      <td>6.852580</td>\n",
       "    </tr>\n",
       "    <tr>\n",
       "      <th>97</th>\n",
       "      <td>NAM</td>\n",
       "      <td>Namibia</td>\n",
       "      <td>70.6238</td>\n",
       "      <td>2007</td>\n",
       "      <td>1.134477</td>\n",
       "    </tr>\n",
       "    <tr>\n",
       "      <th>98</th>\n",
       "      <td>NER</td>\n",
       "      <td>Niger</td>\n",
       "      <td>39.0544</td>\n",
       "      <td>2007</td>\n",
       "      <td>0.048874</td>\n",
       "    </tr>\n",
       "    <tr>\n",
       "      <th>99</th>\n",
       "      <td>NGA</td>\n",
       "      <td>Nigeria</td>\n",
       "      <td>56.1563</td>\n",
       "      <td>2007</td>\n",
       "      <td>0.645116</td>\n",
       "    </tr>\n",
       "  </tbody>\n",
       "</table>\n",
       "<p>100 rows × 5 columns</p>\n",
       "</div>"
      ],
      "text/plain": [
       "   Code                           Country      EPI  Year  \\\n",
       "0   AGO                            Angola  39.4947  2007   \n",
       "1   ALB                           Albania   83.951  2007   \n",
       "2   ARE  United Arab Emirates              63.9858  2007   \n",
       "3   ARG                         Argentina  81.7837  2007   \n",
       "4   ARM                           Armenia  77.7546  2007   \n",
       "..  ...                               ...      ...   ...   \n",
       "95  MWI                            Malawi  59.9109  2007   \n",
       "96  MYS                          Malaysia  83.9784  2007   \n",
       "97  NAM                           Namibia  70.6238  2007   \n",
       "98  NER                             Niger  39.0544  2007   \n",
       "99  NGA                           Nigeria  56.1563  2007   \n",
       "\n",
       "    Per capita CO₂ emissions (tonnes per capita)  \n",
       "0                                       1.189469  \n",
       "1                                       1.297707  \n",
       "2                                      22.060806  \n",
       "3                                       4.359068  \n",
       "4                                       1.741447  \n",
       "..                                           ...  \n",
       "95                                      0.062586  \n",
       "96                                      6.852580  \n",
       "97                                      1.134477  \n",
       "98                                      0.048874  \n",
       "99                                      0.645116  \n",
       "\n",
       "[100 rows x 5 columns]"
      ]
     },
     "execution_count": 214,
     "metadata": {},
     "output_type": "execute_result"
    }
   ],
   "source": [
    "# Merge the previous Dataframe and the Unemployment Table\n",
    "result = pd.merge(df_EPI,\n",
    "                 df_CO2_Emission,\n",
    "                 on=['Code', 'Year'])\n",
    "result.head(100)"
   ]
  },
  {
   "cell_type": "code",
   "execution_count": 215,
   "metadata": {},
   "outputs": [
    {
     "name": "stdout",
     "output_type": "stream",
     "text": [
      "<class 'pandas.core.frame.DataFrame'>\n",
      "Int64Index: 1777 entries, 0 to 1776\n",
      "Data columns (total 5 columns):\n",
      " #   Column                                        Non-Null Count  Dtype  \n",
      "---  ------                                        --------------  -----  \n",
      " 0   Code                                          1777 non-null   object \n",
      " 1   Country                                       1777 non-null   object \n",
      " 2   EPI                                           1777 non-null   object \n",
      " 3   Year                                          1777 non-null   int64  \n",
      " 4   Per capita CO₂ emissions (tonnes per capita)  1777 non-null   float64\n",
      "dtypes: float64(1), int64(1), object(3)\n",
      "memory usage: 83.3+ KB\n"
     ]
    }
   ],
   "source": [
    "result.info()"
   ]
  },
  {
   "cell_type": "code",
   "execution_count": 148,
   "metadata": {},
   "outputs": [],
   "source": [
    "result.to_csv('file_name.csv', index=False)"
   ]
  },
  {
   "cell_type": "code",
   "execution_count": 216,
   "metadata": {},
   "outputs": [
    {
     "data": {
      "text/html": [
       "<div>\n",
       "<style scoped>\n",
       "    .dataframe tbody tr th:only-of-type {\n",
       "        vertical-align: middle;\n",
       "    }\n",
       "\n",
       "    .dataframe tbody tr th {\n",
       "        vertical-align: top;\n",
       "    }\n",
       "\n",
       "    .dataframe thead th {\n",
       "        text-align: right;\n",
       "    }\n",
       "</style>\n",
       "<table border=\"1\" class=\"dataframe\">\n",
       "  <thead>\n",
       "    <tr style=\"text-align: right;\">\n",
       "      <th></th>\n",
       "      <th>Country</th>\n",
       "      <th>Code</th>\n",
       "      <th>Unemployment Rate</th>\n",
       "      <th>Year</th>\n",
       "    </tr>\n",
       "  </thead>\n",
       "  <tbody>\n",
       "    <tr>\n",
       "      <th>0</th>\n",
       "      <td>Aruba</td>\n",
       "      <td>ABW</td>\n",
       "      <td>NaN</td>\n",
       "      <td>2007</td>\n",
       "    </tr>\n",
       "    <tr>\n",
       "      <th>1</th>\n",
       "      <td>Afghanistan</td>\n",
       "      <td>AFG</td>\n",
       "      <td>11.046</td>\n",
       "      <td>2007</td>\n",
       "    </tr>\n",
       "    <tr>\n",
       "      <th>2</th>\n",
       "      <td>Angola</td>\n",
       "      <td>AGO</td>\n",
       "      <td>3.637</td>\n",
       "      <td>2007</td>\n",
       "    </tr>\n",
       "    <tr>\n",
       "      <th>3</th>\n",
       "      <td>Albania</td>\n",
       "      <td>ALB</td>\n",
       "      <td>15.966</td>\n",
       "      <td>2007</td>\n",
       "    </tr>\n",
       "    <tr>\n",
       "      <th>4</th>\n",
       "      <td>Andorra</td>\n",
       "      <td>AND</td>\n",
       "      <td>NaN</td>\n",
       "      <td>2007</td>\n",
       "    </tr>\n",
       "  </tbody>\n",
       "</table>\n",
       "</div>"
      ],
      "text/plain": [
       "       Country Code  Unemployment Rate  Year\n",
       "0        Aruba  ABW                NaN  2007\n",
       "1  Afghanistan  AFG             11.046  2007\n",
       "2       Angola  AGO              3.637  2007\n",
       "3      Albania  ALB             15.966  2007\n",
       "4      Andorra  AND                NaN  2007"
      ]
     },
     "execution_count": 216,
     "metadata": {},
     "output_type": "execute_result"
    }
   ],
   "source": [
    "# Load Unemployment Data\n",
    "df_Unemployment_Rate = pd.read_csv('data/Unemployment Rate.csv')\n",
    "df_Unemployment_Rate.head()"
   ]
  },
  {
   "cell_type": "code",
   "execution_count": 217,
   "metadata": {},
   "outputs": [],
   "source": [
    "# Drop Naan row \n",
    "df_Unemployment_Rate = df_Unemployment_Rate.dropna()"
   ]
  },
  {
   "cell_type": "code",
   "execution_count": 218,
   "metadata": {},
   "outputs": [
    {
     "data": {
      "text/html": [
       "<div>\n",
       "<style scoped>\n",
       "    .dataframe tbody tr th:only-of-type {\n",
       "        vertical-align: middle;\n",
       "    }\n",
       "\n",
       "    .dataframe tbody tr th {\n",
       "        vertical-align: top;\n",
       "    }\n",
       "\n",
       "    .dataframe thead th {\n",
       "        text-align: right;\n",
       "    }\n",
       "</style>\n",
       "<table border=\"1\" class=\"dataframe\">\n",
       "  <thead>\n",
       "    <tr style=\"text-align: right;\">\n",
       "      <th></th>\n",
       "      <th>Country</th>\n",
       "      <th>Code</th>\n",
       "      <th>Unemployment Rate</th>\n",
       "      <th>Year</th>\n",
       "    </tr>\n",
       "  </thead>\n",
       "  <tbody>\n",
       "    <tr>\n",
       "      <th>1</th>\n",
       "      <td>Afghanistan</td>\n",
       "      <td>AFG</td>\n",
       "      <td>11.046000</td>\n",
       "      <td>2007</td>\n",
       "    </tr>\n",
       "    <tr>\n",
       "      <th>2</th>\n",
       "      <td>Angola</td>\n",
       "      <td>AGO</td>\n",
       "      <td>3.637000</td>\n",
       "      <td>2007</td>\n",
       "    </tr>\n",
       "    <tr>\n",
       "      <th>3</th>\n",
       "      <td>Albania</td>\n",
       "      <td>ALB</td>\n",
       "      <td>15.966000</td>\n",
       "      <td>2007</td>\n",
       "    </tr>\n",
       "    <tr>\n",
       "      <th>5</th>\n",
       "      <td>Arab World</td>\n",
       "      <td>ARB</td>\n",
       "      <td>9.788912</td>\n",
       "      <td>2007</td>\n",
       "    </tr>\n",
       "    <tr>\n",
       "      <th>6</th>\n",
       "      <td>United Arab Emirates</td>\n",
       "      <td>ARE</td>\n",
       "      <td>2.081000</td>\n",
       "      <td>2007</td>\n",
       "    </tr>\n",
       "  </tbody>\n",
       "</table>\n",
       "</div>"
      ],
      "text/plain": [
       "                Country Code  Unemployment Rate  Year\n",
       "1           Afghanistan  AFG          11.046000  2007\n",
       "2                Angola  AGO           3.637000  2007\n",
       "3               Albania  ALB          15.966000  2007\n",
       "5            Arab World  ARB           9.788912  2007\n",
       "6  United Arab Emirates  ARE           2.081000  2007"
      ]
     },
     "execution_count": 218,
     "metadata": {},
     "output_type": "execute_result"
    }
   ],
   "source": [
    "df_Unemployment_Rate.head()"
   ]
  },
  {
   "cell_type": "code",
   "execution_count": 219,
   "metadata": {},
   "outputs": [
    {
     "data": {
      "text/html": [
       "<div>\n",
       "<style scoped>\n",
       "    .dataframe tbody tr th:only-of-type {\n",
       "        vertical-align: middle;\n",
       "    }\n",
       "\n",
       "    .dataframe tbody tr th {\n",
       "        vertical-align: top;\n",
       "    }\n",
       "\n",
       "    .dataframe thead th {\n",
       "        text-align: right;\n",
       "    }\n",
       "</style>\n",
       "<table border=\"1\" class=\"dataframe\">\n",
       "  <thead>\n",
       "    <tr style=\"text-align: right;\">\n",
       "      <th></th>\n",
       "      <th>Code</th>\n",
       "      <th>Unemployment Rate</th>\n",
       "      <th>Year</th>\n",
       "    </tr>\n",
       "  </thead>\n",
       "  <tbody>\n",
       "    <tr>\n",
       "      <th>1</th>\n",
       "      <td>AFG</td>\n",
       "      <td>11.046000</td>\n",
       "      <td>2007</td>\n",
       "    </tr>\n",
       "    <tr>\n",
       "      <th>2</th>\n",
       "      <td>AGO</td>\n",
       "      <td>3.637000</td>\n",
       "      <td>2007</td>\n",
       "    </tr>\n",
       "    <tr>\n",
       "      <th>3</th>\n",
       "      <td>ALB</td>\n",
       "      <td>15.966000</td>\n",
       "      <td>2007</td>\n",
       "    </tr>\n",
       "    <tr>\n",
       "      <th>5</th>\n",
       "      <td>ARB</td>\n",
       "      <td>9.788912</td>\n",
       "      <td>2007</td>\n",
       "    </tr>\n",
       "    <tr>\n",
       "      <th>6</th>\n",
       "      <td>ARE</td>\n",
       "      <td>2.081000</td>\n",
       "      <td>2007</td>\n",
       "    </tr>\n",
       "    <tr>\n",
       "      <th>...</th>\n",
       "      <td>...</td>\n",
       "      <td>...</td>\n",
       "      <td>...</td>\n",
       "    </tr>\n",
       "    <tr>\n",
       "      <th>2898</th>\n",
       "      <td>WSM</td>\n",
       "      <td>8.443000</td>\n",
       "      <td>2017</td>\n",
       "    </tr>\n",
       "    <tr>\n",
       "      <th>2900</th>\n",
       "      <td>YEM</td>\n",
       "      <td>13.152000</td>\n",
       "      <td>2017</td>\n",
       "    </tr>\n",
       "    <tr>\n",
       "      <th>2901</th>\n",
       "      <td>ZAF</td>\n",
       "      <td>27.070999</td>\n",
       "      <td>2017</td>\n",
       "    </tr>\n",
       "    <tr>\n",
       "      <th>2902</th>\n",
       "      <td>ZMB</td>\n",
       "      <td>11.626000</td>\n",
       "      <td>2017</td>\n",
       "    </tr>\n",
       "    <tr>\n",
       "      <th>2903</th>\n",
       "      <td>ZWE</td>\n",
       "      <td>5.168000</td>\n",
       "      <td>2017</td>\n",
       "    </tr>\n",
       "  </tbody>\n",
       "</table>\n",
       "<p>2563 rows × 3 columns</p>\n",
       "</div>"
      ],
      "text/plain": [
       "     Code  Unemployment Rate  Year\n",
       "1     AFG          11.046000  2007\n",
       "2     AGO           3.637000  2007\n",
       "3     ALB          15.966000  2007\n",
       "5     ARB           9.788912  2007\n",
       "6     ARE           2.081000  2007\n",
       "...   ...                ...   ...\n",
       "2898  WSM           8.443000  2017\n",
       "2900  YEM          13.152000  2017\n",
       "2901  ZAF          27.070999  2017\n",
       "2902  ZMB          11.626000  2017\n",
       "2903  ZWE           5.168000  2017\n",
       "\n",
       "[2563 rows x 3 columns]"
      ]
     },
     "execution_count": 219,
     "metadata": {},
     "output_type": "execute_result"
    }
   ],
   "source": [
    "# Drop Country Column\n",
    "df_Unemployment_Rate = df_Unemployment_Rate.drop(['Country'], axis=1)\n",
    "df_Unemployment_Rate"
   ]
  },
  {
   "cell_type": "code",
   "execution_count": 220,
   "metadata": {},
   "outputs": [
    {
     "data": {
      "text/html": [
       "<div>\n",
       "<style scoped>\n",
       "    .dataframe tbody tr th:only-of-type {\n",
       "        vertical-align: middle;\n",
       "    }\n",
       "\n",
       "    .dataframe tbody tr th {\n",
       "        vertical-align: top;\n",
       "    }\n",
       "\n",
       "    .dataframe thead th {\n",
       "        text-align: right;\n",
       "    }\n",
       "</style>\n",
       "<table border=\"1\" class=\"dataframe\">\n",
       "  <thead>\n",
       "    <tr style=\"text-align: right;\">\n",
       "      <th></th>\n",
       "      <th>Code</th>\n",
       "      <th>Country</th>\n",
       "      <th>EPI</th>\n",
       "      <th>Year</th>\n",
       "      <th>Per capita CO₂ emissions (tonnes per capita)</th>\n",
       "      <th>Unemployment Rate</th>\n",
       "    </tr>\n",
       "  </thead>\n",
       "  <tbody>\n",
       "    <tr>\n",
       "      <th>0</th>\n",
       "      <td>AGO</td>\n",
       "      <td>Angola</td>\n",
       "      <td>39.4947</td>\n",
       "      <td>2007</td>\n",
       "      <td>1.189469</td>\n",
       "      <td>3.637</td>\n",
       "    </tr>\n",
       "    <tr>\n",
       "      <th>1</th>\n",
       "      <td>ALB</td>\n",
       "      <td>Albania</td>\n",
       "      <td>83.951</td>\n",
       "      <td>2007</td>\n",
       "      <td>1.297707</td>\n",
       "      <td>15.966</td>\n",
       "    </tr>\n",
       "    <tr>\n",
       "      <th>2</th>\n",
       "      <td>ARE</td>\n",
       "      <td>United Arab Emirates</td>\n",
       "      <td>63.9858</td>\n",
       "      <td>2007</td>\n",
       "      <td>22.060806</td>\n",
       "      <td>2.081</td>\n",
       "    </tr>\n",
       "    <tr>\n",
       "      <th>3</th>\n",
       "      <td>ARG</td>\n",
       "      <td>Argentina</td>\n",
       "      <td>81.7837</td>\n",
       "      <td>2007</td>\n",
       "      <td>4.359068</td>\n",
       "      <td>8.470</td>\n",
       "    </tr>\n",
       "    <tr>\n",
       "      <th>4</th>\n",
       "      <td>ARM</td>\n",
       "      <td>Armenia</td>\n",
       "      <td>77.7546</td>\n",
       "      <td>2007</td>\n",
       "      <td>1.741447</td>\n",
       "      <td>9.812</td>\n",
       "    </tr>\n",
       "  </tbody>\n",
       "</table>\n",
       "</div>"
      ],
      "text/plain": [
       "  Code                           Country      EPI  Year  \\\n",
       "0  AGO                            Angola  39.4947  2007   \n",
       "1  ALB                           Albania   83.951  2007   \n",
       "2  ARE  United Arab Emirates              63.9858  2007   \n",
       "3  ARG                         Argentina  81.7837  2007   \n",
       "4  ARM                           Armenia  77.7546  2007   \n",
       "\n",
       "   Per capita CO₂ emissions (tonnes per capita)  Unemployment Rate  \n",
       "0                                      1.189469              3.637  \n",
       "1                                      1.297707             15.966  \n",
       "2                                     22.060806              2.081  \n",
       "3                                      4.359068              8.470  \n",
       "4                                      1.741447              9.812  "
      ]
     },
     "execution_count": 220,
     "metadata": {},
     "output_type": "execute_result"
    }
   ],
   "source": [
    "# Merge the previous Dataframe and the Unemployment Table\n",
    "result1 = pd.merge(result,\n",
    "                 df_Unemployment_Rate,\n",
    "                 on=['Code', 'Year'])\n",
    "result1.head()"
   ]
  },
  {
   "cell_type": "code",
   "execution_count": 221,
   "metadata": {},
   "outputs": [
    {
     "name": "stdout",
     "output_type": "stream",
     "text": [
      "<class 'pandas.core.frame.DataFrame'>\n",
      "Int64Index: 1739 entries, 0 to 1738\n",
      "Data columns (total 6 columns):\n",
      " #   Column                                        Non-Null Count  Dtype  \n",
      "---  ------                                        --------------  -----  \n",
      " 0   Code                                          1739 non-null   object \n",
      " 1   Country                                       1739 non-null   object \n",
      " 2   EPI                                           1739 non-null   object \n",
      " 3   Year                                          1739 non-null   int64  \n",
      " 4   Per capita CO₂ emissions (tonnes per capita)  1739 non-null   float64\n",
      " 5   Unemployment Rate                             1739 non-null   float64\n",
      "dtypes: float64(2), int64(1), object(3)\n",
      "memory usage: 95.1+ KB\n"
     ]
    }
   ],
   "source": [
    "result1.info()"
   ]
  },
  {
   "cell_type": "code",
   "execution_count": 146,
   "metadata": {},
   "outputs": [],
   "source": [
    "result1.to_csv('file_name9.csv', index=False)"
   ]
  },
  {
   "cell_type": "code",
   "execution_count": null,
   "metadata": {},
   "outputs": [],
   "source": [
    "# Load Renewable Energy Data\n",
    "df_RE = pd.read_csv('data/Renewable Energy.csv')\n",
    "df_RE.head()"
   ]
  },
  {
   "cell_type": "code",
   "execution_count": null,
   "metadata": {},
   "outputs": [],
   "source": [
    "# Drop the Naan Column\n",
    "df_RE = df_RE.dropna()"
   ]
  },
  {
   "cell_type": "code",
   "execution_count": null,
   "metadata": {},
   "outputs": [],
   "source": [
    "# Select only 2017\n",
    "df_RE = df_RE.loc[df_RE['TIME'] == 2017]\n",
    "df_RE"
   ]
  },
  {
   "cell_type": "code",
   "execution_count": null,
   "metadata": {},
   "outputs": [],
   "source": [
    "# Drop the Time Column\n",
    "df_RE = df_RE.drop(['TIME'], axis=1)\n",
    "df_RE"
   ]
  },
  {
   "cell_type": "code",
   "execution_count": null,
   "metadata": {},
   "outputs": [],
   "source": [
    "# Merge \n",
    "result2 = pd.merge(result1,\n",
    "                 df_RE,\n",
    "                 on='Code')\n",
    "result2.head()"
   ]
  },
  {
   "cell_type": "code",
   "execution_count": null,
   "metadata": {},
   "outputs": [],
   "source": [
    "# Load the Fossil Fuel Subsidies Data\n",
    "df_FF_Sub = pd.read_csv('data/fossil-fuel-subsidies.csv')\n",
    "df_FF_Sub.head()"
   ]
  },
  {
   "cell_type": "code",
   "execution_count": null,
   "metadata": {},
   "outputs": [],
   "source": [
    "# Load only 2015\n",
    "df_FF_Sub = df_FF_Sub.loc[df_FF_Sub['Year'] == 2015]\n",
    "df_FF_Sub"
   ]
  },
  {
   "cell_type": "code",
   "execution_count": null,
   "metadata": {},
   "outputs": [],
   "source": [
    "df_FF_Sub.info()"
   ]
  },
  {
   "cell_type": "code",
   "execution_count": null,
   "metadata": {},
   "outputs": [],
   "source": [
    "# Drop Entity and Year Column\n",
    "df_FF_Sub = df_FF_Sub.drop(['Entity', 'Year'], axis=1)\n",
    "df_FF_Sub.head()"
   ]
  },
  {
   "cell_type": "code",
   "execution_count": null,
   "metadata": {},
   "outputs": [],
   "source": [
    "# Drop the NaaN row\n",
    "df_FF_Sub = df_FF_Sub.dropna()"
   ]
  },
  {
   "cell_type": "code",
   "execution_count": null,
   "metadata": {},
   "outputs": [],
   "source": [
    "df_FF_Sub.info()"
   ]
  },
  {
   "cell_type": "code",
   "execution_count": null,
   "metadata": {},
   "outputs": [],
   "source": [
    "result3 = pd.merge(result2,\n",
    "                 df_FF_Sub,\n",
    "                 on='Code')\n",
    "result3.head()"
   ]
  },
  {
   "cell_type": "code",
   "execution_count": null,
   "metadata": {},
   "outputs": [],
   "source": [
    "df_RE_Consumption = pd.read_csv('data/RE consumption.csv')\n",
    "df_RE_Consumption.head()"
   ]
  },
  {
   "cell_type": "code",
   "execution_count": null,
   "metadata": {},
   "outputs": [],
   "source": [
    "df_RE_Consumption = df_RE_Consumption.dropna()"
   ]
  },
  {
   "cell_type": "code",
   "execution_count": null,
   "metadata": {},
   "outputs": [],
   "source": [
    "df_RE_Consumption.head()"
   ]
  },
  {
   "cell_type": "code",
   "execution_count": null,
   "metadata": {},
   "outputs": [],
   "source": [
    "df_RE_Consumption = df_RE_Consumption.drop(['Country', 'Year'], axis=1)"
   ]
  },
  {
   "cell_type": "code",
   "execution_count": null,
   "metadata": {},
   "outputs": [],
   "source": [
    "df_RE_Consumption.info()"
   ]
  },
  {
   "cell_type": "code",
   "execution_count": null,
   "metadata": {},
   "outputs": [],
   "source": [
    "result4 = pd.merge(result3,\n",
    "                 df_RE_Consumption,\n",
    "                 on='Code')\n",
    "result4.head()"
   ]
  },
  {
   "cell_type": "code",
   "execution_count": null,
   "metadata": {},
   "outputs": [],
   "source": [
    "result4.info()"
   ]
  },
  {
   "cell_type": "code",
   "execution_count": null,
   "metadata": {},
   "outputs": [],
   "source": [
    "df_happy = pd.read_csv('data/Happiness Index_1.csv')\n",
    "df_happy.head()"
   ]
  },
  {
   "cell_type": "code",
   "execution_count": null,
   "metadata": {},
   "outputs": [],
   "source": [
    "result5 = pd.merge(result4,\n",
    "                 df_happy,\n",
    "                 on='Country')\n",
    "result5.head()"
   ]
  },
  {
   "cell_type": "markdown",
   "metadata": {},
   "source": [
    "### Modelling Part"
   ]
  },
  {
   "cell_type": "code",
   "execution_count": null,
   "metadata": {},
   "outputs": [],
   "source": [
    "result5 = result5[['Code', 'Country', 'Year', 'Happiness.Score', 'Unemployment Rate %', 'EPI Score', 'Annual CO₂ emissions (tonnes)', 'Renewable Supply %', 'Fossil-fuel pre-tax subsidies ($USD)', 'Renewable Energy Consumption (% of Total)']]\n",
    "result5.head()"
   ]
  },
  {
   "cell_type": "code",
   "execution_count": null,
   "metadata": {},
   "outputs": [],
   "source": [
    "result5.info()"
   ]
  },
  {
   "cell_type": "code",
   "execution_count": null,
   "metadata": {},
   "outputs": [],
   "source": [
    "X = result5[result5.columns[4:]] # Independent Variables\n",
    "y = result5['Unemployment Rate %'] # Dependent Variables"
   ]
  },
  {
   "cell_type": "code",
   "execution_count": null,
   "metadata": {
    "scrolled": true
   },
   "outputs": [],
   "source": [
    "for col in X.columns: \n",
    "    plt.figure()\n",
    "    plt.scatter(X[col],y)\n",
    "    plt.ylabel('Unemployment Rate %')\n",
    "    plt.xlabel(col)\n",
    "    plt.show();"
   ]
  },
  {
   "cell_type": "code",
   "execution_count": null,
   "metadata": {},
   "outputs": [],
   "source": [
    "pd.Series([variance_inflation_factor(X.values, i) \n",
    "               for i in range(X.shape[1])], \n",
    "              index=X.columns)"
   ]
  },
  {
   "cell_type": "code",
   "execution_count": null,
   "metadata": {},
   "outputs": [],
   "source": [
    "result6 = result5[['Code', 'Country', 'Year', 'Unemployment Rate %', 'Annual CO₂ emissions (tonnes)','Fossil-fuel pre-tax subsidies ($USD)', 'EPI Score', 'Renewable Supply %']]\n",
    "result6.head()"
   ]
  },
  {
   "cell_type": "code",
   "execution_count": null,
   "metadata": {},
   "outputs": [],
   "source": [
    "X1 = result6[result6.columns[4:]] # Independent Variables\n",
    "y1 = result6['Unemployment Rate %'] # Dependent Variables"
   ]
  },
  {
   "cell_type": "code",
   "execution_count": null,
   "metadata": {},
   "outputs": [],
   "source": [
    "X_withconstant = sm.add_constant(X1)"
   ]
  },
  {
   "cell_type": "code",
   "execution_count": null,
   "metadata": {
    "scrolled": true
   },
   "outputs": [],
   "source": [
    "result6 = sm.OLS(y1,X_withconstant)\n",
    "\n",
    "result6_2017 = result6.fit()\n",
    "\n",
    "result6_2017.summary()"
   ]
  },
  {
   "cell_type": "code",
   "execution_count": null,
   "metadata": {},
   "outputs": [],
   "source": [
    "X = result5[['Unemployment Rate %', 'EPI Score', 'Renewable Supply %']] # Independent Variables\n",
    "y = result5['Happiness.Score'] # Dependent Variables"
   ]
  },
  {
   "cell_type": "code",
   "execution_count": null,
   "metadata": {},
   "outputs": [],
   "source": [
    "X_train, X_test, y_train, y_test = train_test_split(X, y, test_size=0.3, random_state=17)"
   ]
  },
  {
   "cell_type": "code",
   "execution_count": null,
   "metadata": {},
   "outputs": [],
   "source": [
    "from sklearn.linear_model import LinearRegression\n",
    "linear_regression_model = LinearRegression()\n",
    "# 2. Fit model \n",
    "linear_regression_model.fit(X_train, y_train)\n",
    "\n",
    "# 3. Score on training data \n",
    "print(linear_regression_model.score(X_train, y_train))\n",
    "\n",
    "# 4. Score on testing data\n",
    "print(linear_regression_model.score(X_test, y_test))"
   ]
  }
 ],
 "metadata": {
  "kernelspec": {
   "display_name": "Python 3",
   "language": "python",
   "name": "python3"
  },
  "language_info": {
   "codemirror_mode": {
    "name": "ipython",
    "version": 3
   },
   "file_extension": ".py",
   "mimetype": "text/x-python",
   "name": "python",
   "nbconvert_exporter": "python",
   "pygments_lexer": "ipython3",
   "version": "3.7.6"
  }
 },
 "nbformat": 4,
 "nbformat_minor": 4
}
